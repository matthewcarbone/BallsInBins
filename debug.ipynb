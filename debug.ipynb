{
 "cells": [
  {
   "cell_type": "code",
   "execution_count": null,
   "id": "4477284e-3b18-4234-b7dc-bcf72cfe3a95",
   "metadata": {
    "tags": []
   },
   "outputs": [],
   "source": [
    "%load_ext autoreload\n",
    "%autoreload 2\n",
    "%config Completer.use_jedi = False"
   ]
  },
  {
   "cell_type": "code",
   "execution_count": null,
   "id": "9460db4b-49ec-44f5-afbe-ac0d1f34fecb",
   "metadata": {
    "tags": []
   },
   "outputs": [],
   "source": [
    "import numpy as np\n",
    "from scipy.stats import sem"
   ]
  },
  {
   "cell_type": "code",
   "execution_count": null,
   "id": "4b7f3db5-bf5c-4167-b800-332b694173b0",
   "metadata": {
    "tags": []
   },
   "outputs": [],
   "source": [
    "from balls_in_bins.simulation import Simulation, analytic_collisions, analytic_empty_bins"
   ]
  },
  {
   "cell_type": "markdown",
   "id": "c62bddb1-8abd-41bc-9948-7e8acb8c2cf7",
   "metadata": {},
   "source": [
    "Example:"
   ]
  },
  {
   "cell_type": "code",
   "execution_count": null,
   "id": "263733b2-508f-4776-b9ca-adea361ea603",
   "metadata": {},
   "outputs": [],
   "source": [
    "sim = Simulation.new(3)\n",
    "sim.throw_balls_(5)\n",
    "sim.bins"
   ]
  },
  {
   "cell_type": "markdown",
   "id": "2ea514c9-d2cb-49b6-8786-9a1ed5047120",
   "metadata": {},
   "source": [
    "Analytic tests:"
   ]
  },
  {
   "cell_type": "code",
   "execution_count": null,
   "id": "85b64aa8-0db4-4108-b6cc-b9ef7f4cb7b4",
   "metadata": {
    "tags": []
   },
   "outputs": [],
   "source": [
    "N = 3   # balls\n",
    "M = 67  # bins\n",
    "n_sim = 10000"
   ]
  },
  {
   "cell_type": "code",
   "execution_count": null,
   "id": "2190253f-d0f4-41df-8ced-4fdd3377c06a",
   "metadata": {
    "tags": []
   },
   "outputs": [],
   "source": [
    "vals = []\n",
    "for _ in range(n_sim):\n",
    "    simulation = Simulation.new(M)\n",
    "    simulation.throw_balls_(N)\n",
    "    vals.append(simulation.collisions)\n",
    "analytic = analytic_collisions(N, M)\n",
    "numerical = np.mean(vals)\n",
    "numerical_sem = sem(vals)\n",
    "\n",
    "print(f\"Ana == {analytic}\")\n",
    "print(f\"Num == {numerical:.08f} +/- {numerical_sem:.08f}\")"
   ]
  },
  {
   "cell_type": "code",
   "execution_count": null,
   "id": "78d00097-0f8d-4314-9c63-22606410cb95",
   "metadata": {
    "tags": []
   },
   "outputs": [],
   "source": [
    "vals = []\n",
    "for _ in range(n_sim):\n",
    "    simulation = Simulation.new(M)\n",
    "    simulation.throw_balls_(N)\n",
    "    vals.append(simulation.empty_bins)\n",
    "analytic = analytic_empty_bins(N, M)\n",
    "numerical = np.mean(vals)\n",
    "numerical_sem = sem(vals)\n",
    "\n",
    "print(f\"Ana == {analytic}\")\n",
    "print(f\"Num == {numerical:.08f} +/- {numerical_sem:.08f}\")"
   ]
  }
 ],
 "metadata": {
  "kernelspec": {
   "display_name": "Python 3 (ipykernel)",
   "language": "python",
   "name": "python3"
  },
  "language_info": {
   "codemirror_mode": {
    "name": "ipython",
    "version": 3
   },
   "file_extension": ".py",
   "mimetype": "text/x-python",
   "name": "python",
   "nbconvert_exporter": "python",
   "pygments_lexer": "ipython3",
   "version": "3.9.16"
  }
 },
 "nbformat": 4,
 "nbformat_minor": 5
}
